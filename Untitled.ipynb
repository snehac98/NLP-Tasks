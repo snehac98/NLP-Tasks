{
 "cells": [
  {
   "cell_type": "code",
   "execution_count": 1,
   "metadata": {},
   "outputs": [],
   "source": [
    "import nltk\n",
    "from nltk.stem import PorterStemmer"
   ]
  },
  {
   "cell_type": "code",
   "execution_count": 43,
   "metadata": {},
   "outputs": [
    {
     "name": "stdout",
     "output_type": "stream",
     "text": [
      "manag\n",
      "cri\n",
      "rotat\n",
      "nation\n",
      "clingi\n",
      "cri\n",
      "gener\n",
      "token\n",
      "computer\n",
      "doodl\n",
      "opaqu\n",
      "take\n",
      "lie\n",
      "die\n",
      "cri\n",
      "buy\n"
     ]
    }
   ],
   "source": [
    "ps=PorterStemmer()\n",
    "print(ps.stem(\"Managing\"))\n",
    "print(ps.stem(\"Cries\"))\n",
    "print(ps.stem(\"Rotation\"))\n",
    "print(ps.stem(\"Nation\"))\n",
    "print(ps.stem(\"Clingy\"))\n",
    "print(ps.stem(\"Cry\"))\n",
    "print(ps.stem(\"Generated\"))\n",
    "print(ps.stem(\"tokenizer\"))\n",
    "print(ps.stem(\"computerization\"))\n",
    "print(ps.stem(\"doodle\"))\n",
    "print(ps.stem('opaque'))\n",
    "print(ps.stem(\"taking\"))\n",
    "print(ps.stem(\"lying\"))\n",
    "print(ps.stem(\"dying\"))\n",
    "print(ps.stem(\"crying\"))\n",
    "print(ps.stem(\"buying\"))"
   ]
  },
  {
   "cell_type": "code",
   "execution_count": 8,
   "metadata": {},
   "outputs": [],
   "source": [
    "from nltk.stem import LancasterStemmer"
   ]
  },
  {
   "cell_type": "code",
   "execution_count": 45,
   "metadata": {},
   "outputs": [
    {
     "name": "stdout",
     "output_type": "stream",
     "text": [
      "work\n",
      "comput\n",
      "americ\n",
      "program\n"
     ]
    }
   ],
   "source": [
    "ls=LancasterStemmer()\n",
    "print(ls.stem(\"working\"))\n",
    "print(ls.stem(\"computerization\"))\n",
    "print(ls.stem(\"america\"))\n",
    "print(ls.stem(\"programming\"))"
   ]
  },
  {
   "cell_type": "code",
   "execution_count": 11,
   "metadata": {},
   "outputs": [],
   "source": [
    "from nltk.stem import SnowballStemmer\n",
    "SnowballStemmer.languages\n",
    "sb_en=SnowballStemmer('english')\n",
    "sb_fr=SnowballStemmer('french')"
   ]
  },
  {
   "cell_type": "code",
   "execution_count": 12,
   "metadata": {},
   "outputs": [
    {
     "data": {
      "text/plain": [
       "'manag'"
      ]
     },
     "execution_count": 12,
     "metadata": {},
     "output_type": "execute_result"
    }
   ],
   "source": [
    "sb_en.stem('managing')"
   ]
  },
  {
   "cell_type": "code",
   "execution_count": null,
   "metadata": {},
   "outputs": [],
   "source": []
  }
 ],
 "metadata": {
  "kernelspec": {
   "display_name": "Python 3",
   "language": "python",
   "name": "python3"
  },
  "language_info": {
   "codemirror_mode": {
    "name": "ipython",
    "version": 3
   },
   "file_extension": ".py",
   "mimetype": "text/x-python",
   "name": "python",
   "nbconvert_exporter": "python",
   "pygments_lexer": "ipython3",
   "version": "3.7.0"
  }
 },
 "nbformat": 4,
 "nbformat_minor": 2
}
