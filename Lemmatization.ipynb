{
 "cells": [
  {
   "cell_type": "code",
   "execution_count": 2,
   "metadata": {},
   "outputs": [],
   "source": [
    "import nltk\n",
    "from nltk.stem import PorterStemmer\n",
    "from nltk.stem import WordNetLemmatizer"
   ]
  },
  {
   "cell_type": "code",
   "execution_count": 3,
   "metadata": {},
   "outputs": [
    {
     "name": "stdout",
     "output_type": "stream",
     "text": [
      "waisal serevi (born 1968) is a former fijian rugbi union footbal and coach. A member of the world rugbi hall of fame, he is wide consid to be the greatest rugbi seven player in the histori of the game. In the 15-man game, he play for fiji 39 time between 1989 and 2003, score 376 point and repres hi countri in the 1991, 1999, and 2003 rugbi world cups. He also play profession for the mitsubishi, leicester, stade montois, stade bordelai and stain rugbi teams.\n"
     ]
    }
   ],
   "source": [
    "stemmer = PorterStemmer()\n",
    "example=\"\"\"Waisale Serevi (born 1968) is a former Fijian rugby union footballer and coach. A member of the World Rugby Hall of Fame, he is widely considered to be the greatest rugby sevens player in the history of the game. In the 15-man game, he played for Fiji 39 times between 1989 and 2003, scoring 376 points and representing his country in the 1991, 1999, and 2003 Rugby World Cups. He also played professionally for the Mitsubishi, Leicester, Stade Montois, Stade Bordelais and Staines rugby teams.\"\"\"\n",
    "example= [stemmer.stem(token) for token in example.split(\" \")]\n",
    "print(\" \".join(example))"
   ]
  },
  {
   "cell_type": "code",
   "execution_count": 4,
   "metadata": {},
   "outputs": [
    {
     "name": "stdout",
     "output_type": "stream",
     "text": [
      "Waisale Serevi (born 1968) is a former Fijian rugby union footballer and coach. A member of the World Rugby Hall of Fame, he is widely considered to be the greatest rugby seven player in the history of the game. In the 15-man game, he played for Fiji 39 time between 1989 and 2003, scoring 376 point and representing his country in the 1991, 1999, and 2003 Rugby World Cups. He also played professionally for the Mitsubishi, Leicester, Stade Montois, Stade Bordelais and Staines rugby teams.\n"
     ]
    }
   ],
   "source": [
    "lemmatizer= WordNetLemmatizer()\n",
    "example = \"\"\"Waisale Serevi (born 1968) is a former Fijian rugby union footballer and coach. A member of the World Rugby Hall of Fame, he is widely considered to be the greatest rugby sevens player in the history of the game. In the 15-man game, he played for Fiji 39 times between 1989 and 2003, scoring 376 points and representing his country in the 1991, 1999, and 2003 Rugby World Cups. He also played professionally for the Mitsubishi, Leicester, Stade Montois, Stade Bordelais and Staines rugby teams.\"\"\"\n",
    "example = [lemmatizer.lemmatize(token) for token in example.split(\" \")]\n",
    "print(\" \".join(example))"
   ]
  },
  {
   "cell_type": "code",
   "execution_count": 5,
   "metadata": {},
   "outputs": [],
   "source": [
    "from sklearn.feature_extraction.text import CountVectorizer\n",
    "from sklearn.feature_extraction.text import TfidfVectorizer"
   ]
  },
  {
   "cell_type": "code",
   "execution_count": 6,
   "metadata": {},
   "outputs": [],
   "source": [
    "vect= CountVectorizer(binary=True)"
   ]
  },
  {
   "cell_type": "code",
   "execution_count": 7,
   "metadata": {},
   "outputs": [],
   "source": [
    "corpus=[\"hello my name is pratyush\"]"
   ]
  },
  {
   "cell_type": "code",
   "execution_count": 8,
   "metadata": {},
   "outputs": [
    {
     "data": {
      "text/plain": [
       "CountVectorizer(analyzer='word', binary=True, decode_error='strict',\n",
       "        dtype=<class 'numpy.int64'>, encoding='utf-8', input='content',\n",
       "        lowercase=True, max_df=1.0, max_features=None, min_df=1,\n",
       "        ngram_range=(1, 1), preprocessor=None, stop_words=None,\n",
       "        strip_accents=None, token_pattern='(?u)\\\\b\\\\w\\\\w+\\\\b',\n",
       "        tokenizer=None, vocabulary=None)"
      ]
     },
     "execution_count": 8,
     "metadata": {},
     "output_type": "execute_result"
    }
   ],
   "source": [
    "vect.fit(corpus)"
   ]
  },
  {
   "cell_type": "code",
   "execution_count": null,
   "metadata": {},
   "outputs": [],
   "source": [
    "print(vect.transform())"
   ]
  }
 ],
 "metadata": {
  "kernelspec": {
   "display_name": "Python 3",
   "language": "python",
   "name": "python3"
  },
  "language_info": {
   "codemirror_mode": {
    "name": "ipython",
    "version": 3
   },
   "file_extension": ".py",
   "mimetype": "text/x-python",
   "name": "python",
   "nbconvert_exporter": "python",
   "pygments_lexer": "ipython3",
   "version": "3.7.0"
  }
 },
 "nbformat": 4,
 "nbformat_minor": 2
}
